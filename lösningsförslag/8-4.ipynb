{
 "cells": [
  {
   "cell_type": "markdown",
   "metadata": {},
   "source": [
    "## Lösningsförslag uppgift 8.4"
   ]
  },
  {
   "cell_type": "code",
   "execution_count": 1,
   "metadata": {},
   "outputs": [],
   "source": [
    "def add_two_small_numbers(a: int, b: int) -> int:\n",
    "    if a > 100 or b > 100:\n",
    "        raise Exception('both numbers must be smaller than or equal to 100')\n",
    "    else:\n",
    "        return a + b\n",
    "\n"
   ]
  },
  {
   "cell_type": "code",
   "execution_count": 2,
   "metadata": {},
   "outputs": [
    {
     "ename": "Exception",
     "evalue": "both numbers must be smaller than or equal to 100",
     "output_type": "error",
     "traceback": [
      "\u001b[0;31m---------------------------------------------------------------------------\u001b[0m",
      "\u001b[0;31mException\u001b[0m                                 Traceback (most recent call last)",
      "Cell \u001b[0;32mIn[2], line 1\u001b[0m\n\u001b[0;32m----> 1\u001b[0m \u001b[43madd_two_small_numbers\u001b[49m\u001b[43m(\u001b[49m\u001b[38;5;241;43m356\u001b[39;49m\u001b[43m,\u001b[49m\u001b[43m \u001b[49m\u001b[38;5;241;43m45\u001b[39;49m\u001b[43m)\u001b[49m\n",
      "Cell \u001b[0;32mIn[1], line 3\u001b[0m, in \u001b[0;36madd_two_small_numbers\u001b[0;34m(a, b)\u001b[0m\n\u001b[1;32m      1\u001b[0m \u001b[38;5;28;01mdef\u001b[39;00m \u001b[38;5;21madd_two_small_numbers\u001b[39m(a: \u001b[38;5;28mint\u001b[39m, b: \u001b[38;5;28mint\u001b[39m) \u001b[38;5;241m-\u001b[39m\u001b[38;5;241m>\u001b[39m \u001b[38;5;28mint\u001b[39m:\n\u001b[1;32m      2\u001b[0m     \u001b[38;5;28;01mif\u001b[39;00m a \u001b[38;5;241m>\u001b[39m \u001b[38;5;241m100\u001b[39m \u001b[38;5;129;01mor\u001b[39;00m b \u001b[38;5;241m>\u001b[39m \u001b[38;5;241m100\u001b[39m:\n\u001b[0;32m----> 3\u001b[0m         \u001b[38;5;28;01mraise\u001b[39;00m \u001b[38;5;167;01mException\u001b[39;00m(\u001b[38;5;124m'\u001b[39m\u001b[38;5;124mboth numbers must be smaller than or equal to 100\u001b[39m\u001b[38;5;124m'\u001b[39m)\n\u001b[1;32m      4\u001b[0m     \u001b[38;5;28;01melse\u001b[39;00m:\n\u001b[1;32m      5\u001b[0m         \u001b[38;5;28;01mreturn\u001b[39;00m a \u001b[38;5;241m+\u001b[39m b\n",
      "\u001b[0;31mException\u001b[0m: both numbers must be smaller than or equal to 100"
     ]
    }
   ],
   "source": [
    "add_two_small_numbers(356, 45)"
   ]
  },
  {
   "cell_type": "markdown",
   "metadata": {},
   "source": [
    "Om vi vill försäkra oss om att alla värden behandlas kan vi spara dem i en lista och loopa igenom den. Med en `try ... except` kan vi hantera `Exceptions` när de uppstår."
   ]
  },
  {
   "cell_type": "code",
   "execution_count": 3,
   "metadata": {},
   "outputs": [
    {
     "name": "stdout",
     "output_type": "stream",
     "text": [
      "Exception occured!\n",
      "20\n"
     ]
    }
   ],
   "source": [
    "values = [(6000, 23), (14, 6)]\n",
    "\n",
    "for value in values:\n",
    "        try:\n",
    "            print(add_two_small_numbers(*value))\n",
    "        except:\n",
    "              print(\"Exception occured!\")"
   ]
  },
  {
   "cell_type": "markdown",
   "metadata": {},
   "source": [
    "### Fördjupning\n",
    "\n",
    "Vi kan definiera egna *exceptions* genom att skapa en underklass till en inbyggd *exception*.\n",
    "\n",
    "I vårt fall, där vi vill vara säkra på att *värdet* på argumenten är under eller lika med 100, är det klokt att specificera att det är ett `ValueError` det rör sig om.\n",
    "\n",
    "I exemplet nedan använder vi bara den inbyggda funktionaliteten hos `ValueError`, men vi gör koden lite lättare att förstå för en annan person som läser den genom att också tala om vad som är fel med värdet. Det gör vi alltså genom att vi kallar vår egna *exception* för `Above100Error`."
   ]
  },
  {
   "cell_type": "code",
   "execution_count": 10,
   "metadata": {},
   "outputs": [],
   "source": [
    "class Above100Error(ValueError):\n",
    "    ..."
   ]
  },
  {
   "cell_type": "code",
   "execution_count": 36,
   "metadata": {},
   "outputs": [],
   "source": [
    "def add_two_small_numbers(a, b):\n",
    "    try:\n",
    "        if a > 100 or b > 100:\n",
    "            raise Above100Error('both numbers must be smaller than or equal to 100')\n",
    "    except Above100Error as e:\n",
    "        return e\n",
    "    except Exception as e: # Här fångar vi alla andra exceptions och skriver ut deras felmeddelande.\n",
    "        return e\n",
    "    else:\n",
    "        return a + b"
   ]
  },
  {
   "cell_type": "code",
   "execution_count": 37,
   "metadata": {},
   "outputs": [
    {
     "name": "stdout",
     "output_type": "stream",
     "text": [
      "20\n",
      "'>' not supported between instances of 'str' and 'int'\n",
      "both numbers must be smaller than or equal to 100\n"
     ]
    }
   ],
   "source": [
    "print(add_two_small_numbers(14, 6))\n",
    "print(add_two_small_numbers(\"tisdag\", 6))\n",
    "print(add_two_small_numbers(6000, 23))"
   ]
  },
  {
   "cell_type": "code",
   "execution_count": null,
   "metadata": {},
   "outputs": [],
   "source": []
  }
 ],
 "metadata": {
  "kernelspec": {
   "display_name": ".venv",
   "language": "python",
   "name": "python3"
  },
  "language_info": {
   "codemirror_mode": {
    "name": "ipython",
    "version": 3
   },
   "file_extension": ".py",
   "mimetype": "text/x-python",
   "name": "python",
   "nbconvert_exporter": "python",
   "pygments_lexer": "ipython3",
   "version": "3.13.0"
  }
 },
 "nbformat": 4,
 "nbformat_minor": 2
}
