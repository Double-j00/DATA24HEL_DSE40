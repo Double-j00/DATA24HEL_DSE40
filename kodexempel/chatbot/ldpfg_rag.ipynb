{
 "cells": [
  {
   "cell_type": "markdown",
   "metadata": {},
   "source": [
    "# Chatta med Lär dig Python från grunden\n",
    "\n",
    "**OBS! Det här är fördjupningsmaterial för den som är intresserad och hör inte till kursens obligatoriska innehåll!**\n",
    "\n",
    "Här är exempelkod för hur jag byggde en chatbot som svarar på frågor utifrån boken *Lär dig Python från grunden*.\n",
    "\n",
    "Notera att notebooken inte kommer att gå att köra hur som helst - jag har inte delat min privata API-nyckel, och inte heller boken i PDF-format.\n",
    "\n",
    "Om du vill testa på eget material kan du skapa en egen API-nyckel och läsa mer [här](https://ai.google.dev/gemini-api/docs).\n",
    "\n",
    "Koden är alltså enbart till för att demonstrera konceptet med RAG (*Retreival-Augumented Generation*).\n",
    "\n",
    "Du kan läsa mer om RAG [här](https://aws.amazon.com/what-is/retrieval-augmented-generation/)."
   ]
  },
  {
   "cell_type": "code",
   "execution_count": 1,
   "metadata": {},
   "outputs": [],
   "source": [
    "import os\n",
    "import uuid\n",
    "import google.generativeai as genai\n",
    "import pandas as pd\n",
    "from pypdf import PdfReader\n",
    "from langchain_text_splitters import RecursiveCharacterTextSplitter\n",
    "from langchain_chroma import Chroma\n",
    "import chromadb\n",
    "\n",
    "genai.configure(api_key=os.environ.get('API_KEY'))"
   ]
  },
  {
   "cell_type": "code",
   "execution_count": 2,
   "metadata": {},
   "outputs": [],
   "source": [
    "chroma_client = chromadb.Client()\n",
    "collection = chroma_client.create_collection('ldpfg')"
   ]
  },
  {
   "cell_type": "code",
   "execution_count": 3,
   "metadata": {},
   "outputs": [],
   "source": [
    "reader = PdfReader('Lär-dig-Python-från-grunden.pdf')"
   ]
  },
  {
   "cell_type": "code",
   "execution_count": 4,
   "metadata": {},
   "outputs": [],
   "source": [
    "text = ''\n",
    "for page in reader.pages[19:]:\n",
    "    text += page.extract_text() "
   ]
  },
  {
   "cell_type": "code",
   "execution_count": 11,
   "metadata": {},
   "outputs": [],
   "source": [
    "text_splitter = RecursiveCharacterTextSplitter(\n",
    "    chunk_size=500,\n",
    "    chunk_overlap=150,\n",
    "    length_function=len,\n",
    "    is_separator_regex=False,\n",
    ")\n",
    "\n",
    "uuids = []\n",
    "docs = text_splitter.create_documents([text])\n",
    "for i, d in enumerate(docs):\n",
    "    uuids.append(str(uuid.uuid4()))\n",
    "    d.metadata = {\"doc_id\": i}"
   ]
  },
  {
   "cell_type": "code",
   "execution_count": 15,
   "metadata": {},
   "outputs": [],
   "source": [
    "import chromadb.utils.embedding_functions as embedding_functions\n",
    "\n",
    "gem_ef = embedding_functions.GoogleGenerativeAiEmbeddingFunction(api_key=os.environ.get('API_KEY'))"
   ]
  },
  {
   "cell_type": "code",
   "execution_count": 16,
   "metadata": {},
   "outputs": [],
   "source": [
    "doc_texts = [d.page_content for d in docs]"
   ]
  },
  {
   "cell_type": "code",
   "execution_count": 17,
   "metadata": {},
   "outputs": [],
   "source": [
    "def create_chroma_db(documents, name):\n",
    "  chroma_client = chromadb.PersistentClient(path='ldpfg.db')\n",
    "  db = chroma_client.get_or_create_collection(name=name, embedding_function=gem_ef)\n",
    "\n",
    "  for i, d in enumerate(documents):\n",
    "    db.add(\n",
    "      documents=d,\n",
    "      ids=str(i)\n",
    "    )\n",
    "  return db"
   ]
  },
  {
   "cell_type": "code",
   "execution_count": null,
   "metadata": {},
   "outputs": [],
   "source": [
    "db = create_chroma_db(doc_texts, 'ldpfg_db')"
   ]
  },
  {
   "cell_type": "code",
   "execution_count": 19,
   "metadata": {},
   "outputs": [],
   "source": [
    "model = genai.GenerativeModel(\"gemini-1.5-flash\")\n",
    "\n",
    "def build_prompt(query: str, context: list[str]) -> str:\n",
    "    \"\"\"\n",
    "    Builds a prompt for the LLM. #\n",
    "\n",
    "    This function builds a prompt for the LLM. It takes the original query,\n",
    "    and the returned context, and asks the model to answer the question based only\n",
    "    on what's in the context, not what's in its weights.\n",
    "\n",
    "    Args:\n",
    "    query (str): The original query.\n",
    "    context (List[str]): The context of the query, returned by embedding search.\n",
    "\n",
    "    Returns:\n",
    "    A prompt for the LLM (str).\n",
    "    \"\"\"\n",
    "\n",
    "    base_prompt = {\n",
    "        \"content\": \"Jag kommer ställa dig en fråga, och jag vill att du svarar\"\n",
    "        \" baserad bara på kontexten jag skickar med, och ingen annan information.\"\n",
    "        \" Om det inte finns nog med information i kontexten för att svara på frågan,\"\n",
    "        ' säg \"Det vet jag inte\", och försök att gissa.'\n",
    "        \" Dela upp svaret i fina stycken.\",\n",
    "    }\n",
    "    user_prompt = {\n",
    "        \"content\": f\" Frågan är '{query}'. Här är kontexten du får:\"\n",
    "        f'{(\" \").join(context)}',\n",
    "    }\n",
    "\n",
    "    # combine the prompts to output a single prompt string\n",
    "    system = f\"{base_prompt['content']} {user_prompt['content']}\"\n",
    "\n",
    "    return system\n",
    "\n",
    "\n",
    "def get_gemini_response(query: str, context: list[str]) -> str:\n",
    "    \"\"\"\n",
    "    Queries the Gemini API to get a response to the question.\n",
    "\n",
    "    Args:\n",
    "    query (str): The original query.\n",
    "    context (List[str]): The context of the query, returned by embedding search.\n",
    "\n",
    "    Returns:\n",
    "    A response to the question.\n",
    "    \"\"\"\n",
    "\n",
    "    response = model.generate_content(build_prompt(query, context))\n",
    "\n",
    "    return response.text\n"
   ]
  },
  {
   "cell_type": "code",
   "execution_count": 26,
   "metadata": {},
   "outputs": [
    {
     "name": "stdout",
     "output_type": "stream",
     "text": [
      "Baserat på den givna texten är en exception i Python ett fel som uppstår under körningen av ett program.  Det kan vara av olika typer, såsom `Exception`, `TypeError`, eller `ZeroDivisionError`.\n",
      "\n",
      "Ett exempel på en exception är när man försöker dela med noll (`5/0`), vilket resulterar i ett `ZeroDivisionError`.  En annan är när man försöker utföra en operation på fel datatyp, exempelvis att addera en sträng till ett heltal (`5 + \"Python is fun!\"`), vilket leder till en `TypeError`.\n",
      "\n",
      "Programmeringsspråket Python tillåter att dessa exceptions fångas med hjälp av `try...except`-block.  Detta gör att programmet kan fortsätta köra även om ett fel uppstår, istället för att krascha.  Innanför `try`-blocket placeras koden som kan orsaka en exception.  `except`-blocket innehåller koden som ska köras om en exception uppstår.  Man kan specificera vilken typ av exception som ska fångas, eller fånga generella exceptions av typen `Exception`.  Nyckelordet `raise` används för att medvetet skapa en exception.\n",
      "\n"
     ]
    }
   ],
   "source": [
    "query = \"Vad är en exception i Python?\"\n",
    "\n",
    "results = db.query(query_texts=[query], n_results=5)\n",
    "\n",
    "print(get_gemini_response(query, results[\"documents\"][0]))"
   ]
  },
  {
   "cell_type": "code",
   "execution_count": null,
   "metadata": {},
   "outputs": [],
   "source": []
  }
 ],
 "metadata": {
  "kernelspec": {
   "display_name": "env",
   "language": "python",
   "name": "python3"
  },
  "language_info": {
   "codemirror_mode": {
    "name": "ipython",
    "version": 3
   },
   "file_extension": ".py",
   "mimetype": "text/x-python",
   "name": "python",
   "nbconvert_exporter": "python",
   "pygments_lexer": "ipython3",
   "version": "3.12.4"
  }
 },
 "nbformat": 4,
 "nbformat_minor": 2
}
